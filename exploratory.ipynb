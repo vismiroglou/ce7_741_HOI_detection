{
 "cells": [
  {
   "cell_type": "code",
   "execution_count": 2,
   "metadata": {},
   "outputs": [],
   "source": [
    "import os\n",
    "from glob import glob"
   ]
  },
  {
   "cell_type": "code",
   "execution_count": 30,
   "metadata": {},
   "outputs": [
    {
     "name": "stdout",
     "output_type": "stream",
     "text": [
      "12786\n",
      "1150\n",
      "159\n",
      "2962\n",
      "617\n",
      "0\n",
      "26\n",
      "120\n"
     ]
    }
   ],
   "source": [
    "annotation_dir = r'data\\mini_test_folder\\annotations'\n",
    "human_ride_bicycle = 0\n",
    "human_walk_bicycle = 0\n",
    "human_ride_motorcycle = 0\n",
    "human_walk_motorcycle = 0\n",
    "human = 0\n",
    "bicycle = 0\n",
    "motorcycle = 0\n",
    "vehicle = 0\n",
    "for anno_file in glob(os.path.join(annotation_dir, '*/*/*.txt'), recursive=True):\n",
    "    with open(anno_file, 'r') as f:\n",
    "        lines = f.readlines()\n",
    "        for line in lines:\n",
    "            if 'human ' in line:\n",
    "                human +=1\n",
    "            if 'bicycle ' in line:\n",
    "                bicycle +=1\n",
    "            if 'motorcycle ' in line:\n",
    "                motorcycle +=1\n",
    "            if 'vehicle ' in line:\n",
    "                vehicle +=1\n",
    "            if 'human-ride-bicycle' in line:\n",
    "                human_ride_bicycle +=1\n",
    "            if 'human-walk-bicycle' in line:\n",
    "                human_walk_bicycle +=1\n",
    "            if 'human-ride-motorcycle' in line:\n",
    "                human_ride_motorcycle +=1\n",
    "            if 'human-walk-motorcycle' in line:\n",
    "                human_walk_motorcycle +=1\n",
    "\n",
    "print(human)\n",
    "print(bicycle)\n",
    "print(motorcycle)\n",
    "print(vehicle)\n",
    "print(human_ride_bicycle)\n",
    "print(human_walk_bicycle)\n",
    "print(human_ride_motorcycle)\n",
    "print(human_walk_motorcycle)\n",
    "    "
   ]
  },
  {
   "cell_type": "code",
   "execution_count": null,
   "metadata": {},
   "outputs": [],
   "source": []
  }
 ],
 "metadata": {
  "kernelspec": {
   "display_name": ".venv",
   "language": "python",
   "name": "python3"
  },
  "language_info": {
   "codemirror_mode": {
    "name": "ipython",
    "version": 3
   },
   "file_extension": ".py",
   "mimetype": "text/x-python",
   "name": "python",
   "nbconvert_exporter": "python",
   "pygments_lexer": "ipython3",
   "version": "3.11.6"
  }
 },
 "nbformat": 4,
 "nbformat_minor": 2
}
