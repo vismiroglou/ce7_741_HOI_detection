{
 "cells": [
  {
   "cell_type": "code",
   "execution_count": null,
   "metadata": {},
   "outputs": [],
   "source": [
    "import pandas as pd\n",
    "import numpy as np\n",
    "import os\n",
    "from glob import glob"
   ]
  },
  {
   "cell_type": "code",
   "execution_count": null,
   "metadata": {},
   "outputs": [],
   "source": [
    "inter_anno = pd.read_csv(r'data\\annotated_data\\annotations_hoi_frame_741.csv')\n",
    "data_dir = r'data\\annotated_data'\n",
    "\n",
    "labels=[]\n",
    "\n",
    "for anno_file in glob(os.path.join(data_dir, '**/*.txt'), recursive=True):\n",
    "    with open(anno_file, 'r') as f:\n",
    "        try:\n",
    "            temp = pd.read_csv(f, header=None, sep=' ')\n",
    "            labels = np.concatenate((labels, temp[1].tolist()))\n",
    "        except:\n",
    "            print('no data')\n"
   ]
  },
  {
   "cell_type": "code",
   "execution_count": 52,
   "metadata": {},
   "outputs": [],
   "source": [
    "inter_labels=[]\n",
    "for row in inter_anno.iterrows():\n",
    "    label = 'human-'+row[1]['action']+'-' + row[1]['object_class']\n",
    "    inter_labels.append(label)"
   ]
  },
  {
   "cell_type": "code",
   "execution_count": 53,
   "metadata": {},
   "outputs": [
    {
     "name": "stdout",
     "output_type": "stream",
     "text": [
      "('bicycle', 5763)\n",
      "('human', 76211)\n",
      "('motorcycle', 1293)\n",
      "('vehicle', 9958)\n",
      "('human-hold-bicycle', 28)\n",
      "('human-ride-bicycle', 835)\n",
      "('human-ride-motorcycle', 95)\n",
      "('human-walk-bicycle', 110)\n",
      "('human-walk-motorcycle', 40)\n"
     ]
    }
   ],
   "source": [
    "unique, counts = np.unique(labels, return_counts=True)\n",
    "for i in zip(unique, counts):\n",
    "    print(i)\n",
    "\n",
    "unique, counts = np.unique(inter_labels, return_counts=True)\n",
    "for i in zip(unique, counts):\n",
    "    print(i)"
   ]
  }
 ],
 "metadata": {
  "kernelspec": {
   "display_name": ".venv",
   "language": "python",
   "name": "python3"
  },
  "language_info": {
   "codemirror_mode": {
    "name": "ipython",
    "version": 3
   },
   "file_extension": ".py",
   "mimetype": "text/x-python",
   "name": "python",
   "nbconvert_exporter": "python",
   "pygments_lexer": "ipython3",
   "version": "3.11.6"
  }
 },
 "nbformat": 4,
 "nbformat_minor": 2
}
