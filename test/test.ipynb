{
 "cells": [
  {
   "cell_type": "code",
   "execution_count": 266,
   "metadata": {},
   "outputs": [],
   "source": [
    "import pandas as pd\n",
    "import os\n",
    "\n",
    "def get_object_bboxes(annos_path, anno_file):\n",
    "    # Scuffed function to add bboxes to annotation file...\n",
    "    # ✅1: Find path to annotations based on folder_name and clip_name from anno_file\n",
    "    # ✅2: Read the corresponding anno.txt\n",
    "    # ✅3: Based on anno_file, add the human and object id as well as the class and bbox\n",
    "    # ✅4: Append the info to a list and return it\n",
    "    # ✅5: Convert list to DataFrame and save as csv\n",
    "    \n",
    "    df_annos = pd.read_csv(anno_file)\n",
    "    data_list = []\n",
    "    for iter, row in df_annos.iterrows():\n",
    "        folder_name, clip_name, fs, fe, hid, oid, act, _ = row\n",
    "        anno_path = os.path.join(annos_path, str(folder_name), clip_name)\n",
    "            \n",
    "        for frame_id in range(fs,fe+1):\n",
    "            classes = []\n",
    "            bboxes = []\n",
    "            for _,_,filenames in os.walk(anno_path):\n",
    "                for filename in filenames:\n",
    "                    if f\"annotations_{frame_id:04}.txt\" in filename:\n",
    "                        anno = os.path.join(anno_path,filename)\n",
    "                        df = pd.read_csv(anno, sep=\" \", header=None, names=[\"obj_id\", \"class\", \"x1\",\"y1\",\"x2\",\"y2\",\"occ\"])\n",
    "                        \n",
    "                        for obj_id in [hid, oid]:\n",
    "                            row = df[df[\"obj_id\"] == obj_id]\n",
    "                            \n",
    "                            if not row.empty:\n",
    "                                class_name = row['class'].values[0]\n",
    "                                x1, y1, x2, y2 = row[['x1', 'y1', 'x2', 'y2']].values[0]\n",
    "                                classes.append(class_name)\n",
    "                                bboxes.append((x1,y1,x2,y2))\n",
    "                                \n",
    "            for _ in range(len(classes)):\n",
    "                if len(classes) >= 2:\n",
    "                    for class_ in classes:\n",
    "                        if class_ == \"human\":\n",
    "                            continue\n",
    "                        else:\n",
    "                            data = {\n",
    "                                \"folder_name\": folder_name,\n",
    "                                \"clip_name\": clip_name,\n",
    "                                \"frame_id\": frame_id,\n",
    "                                \"human_id\": hid,\n",
    "                                \"object_id\": oid,\n",
    "                                \"object_class\": class_,\n",
    "                                \"action\": act,\n",
    "                                \"hmn_x1\": bboxes[0][0],\n",
    "                                \"hmn_y1\": bboxes[0][1],\n",
    "                                \"hmn_x2\": bboxes[0][2],\n",
    "                                \"hmn_y2\": bboxes[0][3],\n",
    "                                \"obj_x1\": bboxes[1][0],\n",
    "                                \"obj_y1\": bboxes[1][1],\n",
    "                                \"obj_x2\": bboxes[1][2],\n",
    "                                \"obj_y2\": bboxes[1][3]\n",
    "                            }\n",
    "                            data_list.append(data)\n",
    "    return pd.DataFrame(data_list)"
   ]
  },
  {
   "cell_type": "code",
   "execution_count": 267,
   "metadata": {},
   "outputs": [],
   "source": [
    "if __name__ == \"__main__\":\n",
    "    csv_name = '../../annotations_hoi_video_741.csv'\n",
    "    object_annotations_path = r'../../annos/'\n",
    "\n",
    "    data = get_object_bboxes(object_annotations_path, csv_name)\n",
    "    data.to_csv(\"../annotations_hoi_frame_741.csv\", index=False)"
   ]
  }
 ],
 "metadata": {
  "kernelspec": {
   "display_name": ".venv",
   "language": "python",
   "name": "python3"
  },
  "language_info": {
   "codemirror_mode": {
    "name": "ipython",
    "version": 3
   },
   "file_extension": ".py",
   "mimetype": "text/x-python",
   "name": "python",
   "nbconvert_exporter": "python",
   "pygments_lexer": "ipython3",
   "version": "3.11.6"
  }
 },
 "nbformat": 4,
 "nbformat_minor": 2
}
