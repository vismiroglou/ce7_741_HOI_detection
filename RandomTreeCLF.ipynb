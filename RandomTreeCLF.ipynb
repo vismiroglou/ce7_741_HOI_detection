{
 "cells": [
  {
   "cell_type": "markdown",
   "metadata": {},
   "source": [
    "# Random Tree Classifier on bbox coordinates/cropped images"
   ]
  },
  {
   "cell_type": "markdown",
   "metadata": {},
   "source": [
    "##### Importing required libraries"
   ]
  },
  {
   "cell_type": "code",
   "execution_count": 3,
   "metadata": {},
   "outputs": [],
   "source": [
    "from torch.utils.data import DataLoader\n",
    "from src.utils import collate_fn\n",
    "from src.dataset import CropsScikitDataset\n",
    "from matplotlib import pyplot as plt\n",
    "from tqdm.auto import tqdm\n",
    "from sklearn.preprocessing import LabelEncoder\n",
    "from sklearn.model_selection import train_test_split\n",
    "from sklearn.ensemble import RandomForestClassifier\n",
    "from sklearn.metrics import accuracy_score, confusion_matrix, precision_score, recall_score, ConfusionMatrixDisplay, classification_report\n",
    "\n",
    "import pandas as pd\n",
    "import numpy as np\n",
    "import cv2"
   ]
  },
  {
   "cell_type": "markdown",
   "metadata": {},
   "source": [
    "##### Preprocessing Data"
   ]
  },
  {
   "cell_type": "code",
   "execution_count": 4,
   "metadata": {},
   "outputs": [],
   "source": [
    "# Function to preprocess data\n",
    "def preprocess(data: list, mode: str = 'crop'):\n",
    "    \"\"\"\n",
    "    Function to preprocess data to match the Random Forest Classifier from scikit-learn.\n",
    "    The fitting function expects:\n",
    "    \n",
    "    * X: Training input samples, {array-like} of shape (n_samples, n_features), where n-dim <= 2\n",
    "    * y: Target values, array-like of shape (n_samples) or (n_samples, n_outputs), where n-dim <= 2\n",
    "    * sample_weight: If None, samples are equally weighted.\n",
    "    \n",
    "    Parameters:\n",
    "    -----------\n",
    "    - data: list\\n\n",
    "    A list containing the features and labels of the data. \n",
    "     \n",
    "    - mode: str, `default = \"crop\" | \"crop\", \"bbox\"`\\n\n",
    "      Used to specify whether we are preprocessing bounding box coordinates, images or image crops. By default `<mode>` is set to preprocess bounding box coordines.\n",
    "    \"\"\"\n",
    "    \n",
    "    # Reshaping labels to 1D-array because classifier expect dim <= 2\n",
    "    print(\"before flattening:\",data[1])\n",
    "    labels = np.array(data[1]).flatten()\n",
    "    #labels = data[1].numpy()\n",
    "    print(\"reshaped labels:\",labels)\n",
    "    \n",
    "    if mode == \"crop\":\n",
    "      # Convert tensors to numpy, then find the maximum height and width among all crops\n",
    "      features = [image.numpy() for image in data[0]]\n",
    "      max_height = max(img.shape[0] for img in features)\n",
    "      max_width = max(img.shape[1] for img in features)\n",
    "      #print(f\"max_height, max_width: ({max_height},{max_width})\")\n",
    "\n",
    "      # Add centered padding around the crop to match max height and width\n",
    "      # To counter floor divison we add +1\n",
    "      features = [np.pad(img,pad_width=(((max_height - img.shape[0])//2, (max_height - img.shape[0] + 1)//2),\n",
    "                                      ((max_width - img.shape[1])//2, (max_width - img.shape[1] + 1)//2)),\n",
    "                                        mode=\"constant\", constant_values=0.0) for img in features]\n",
    "     \n",
    "      # Reshaping features from 3D to 2D\n",
    "      features = np.array(features)\n",
    "      samples,nx,ny = features.shape\n",
    "      features = features.reshape(samples,nx*ny)\n",
    "      return features, labels\n",
    "      \n",
    "    elif mode == \"bbox\":\n",
    "      features = [coord for coord in data[0]]\n",
    "      features = np.array(features)\n",
    "      \n",
    "      return features, labels\n",
    "      \n",
    "    #return features, labels, [org3d, org2d, reshaped]\n",
    "    #return features, labels"
   ]
  },
  {
   "cell_type": "markdown",
   "metadata": {},
   "source": [
    "##### Setting up custom dataset and dataloader"
   ]
  },
  {
   "cell_type": "code",
   "execution_count": 50,
   "metadata": {},
   "outputs": [],
   "source": [
    "le = LabelEncoder()\n",
    "le.fit(['human-ride-bicycle', 'human-walk-bicycle', 'human-hold-bicycle', 'human-ride-motorcycle', 'human-walk-motorcycle'])\n",
    "\n",
    "train_dataset = CropsScikitDataset(anno_file=r'../annotations_hoi_frame.csv', img_dir = r'../images', label_encoder=le)\n",
    "train_dataloader = DataLoader(train_dataset, batch_size=2, shuffle=True, collate_fn=collate_fn)\n",
    "\n",
    "test_dataset = CropsScikitDataset(anno_file=r'annotations_hoi_frame_741.csv', img_dir = r'../images', label_encoder=le)\n",
    "test_dataloader = DataLoader(test_dataset, batch_size=1, shuffle=True, collate_fn=collate_fn)"
   ]
  },
  {
   "cell_type": "markdown",
   "metadata": {},
   "source": [
    "##### Training loop"
   ]
  },
  {
   "cell_type": "code",
   "execution_count": 51,
   "metadata": {},
   "outputs": [
    {
     "name": "stdout",
     "output_type": "stream",
     "text": [
      "before flattening: (tensor([1], dtype=torch.int32), tensor([1], dtype=torch.int32))\n",
      "reshaped labels: [1 1]\n",
      "\n",
      "INFO: EPOCH 1/5\n",
      "before flattening: (tensor([1], dtype=torch.int32), tensor([3], dtype=torch.int32))\n",
      "reshaped labels: [1 3]\n",
      "\n",
      "INFO: EPOCH 2/5\n",
      "before flattening: (tensor([1], dtype=torch.int32), tensor([1], dtype=torch.int32))\n",
      "reshaped labels: [1 1]\n",
      "\n",
      "INFO: EPOCH 3/5\n",
      "before flattening: (tensor([1], dtype=torch.int32), tensor([1], dtype=torch.int32))\n",
      "reshaped labels: [1 1]\n",
      "\n",
      "INFO: EPOCH 4/5\n",
      "before flattening: (tensor([1], dtype=torch.int32), tensor([1], dtype=torch.int32))\n",
      "reshaped labels: [1 1]\n"
     ]
    }
   ],
   "source": [
    "# Training loop\n",
    "epochs = 5\n",
    "seed = 42\n",
    "rf_classifier = RandomForestClassifier(n_estimators=1, random_state=seed, warm_start=True)\n",
    "\n",
    "img, label, coord = next(iter(train_dataloader))\n",
    "features, labels = preprocess((coord, label), mode=\"bbox\")\n",
    "rf_classifier.fit(features,labels)\n",
    "\n",
    "for epoch in (range(epochs - 1)):\n",
    "    print(f\"\\nINFO: EPOCH {epoch+1}/{epochs}\")\n",
    "    rf_classifier.n_estimators += 1 # Adding another tree\n",
    "    img, label, coord = next(iter(train_dataloader))\n",
    "    features, labels = preprocess((coord, label), mode=\"bbox\")\n",
    "    rf_classifier.fit(features,labels)\n",
    "    \n",
    "    \n",
    "    #for frames, labels, coords in tqdm(train_dataloader,total=(len(train_dataloader)),leave=True):\n",
    "    #    #features, labels = preprocess((frames, labels), mode=\"crop\")\n",
    "    #    features, labels = preprocess((coords, labels), mode=\"bbox\")\n",
    "    #    rf_classifier.fit(features,labels)\n",
    "    #    rf_classifier.n_estimators += 1 # Adding another tree"
   ]
  },
  {
   "cell_type": "code",
   "execution_count": 52,
   "metadata": {},
   "outputs": [
    {
     "name": "stdout",
     "output_type": "stream",
     "text": [
      "[DecisionTreeClassifier(max_features='sqrt', random_state=1608637542), DecisionTreeClassifier(max_features='sqrt', random_state=1273642419), DecisionTreeClassifier(max_features='sqrt', random_state=1935803228), DecisionTreeClassifier(max_features='sqrt', random_state=787846414), DecisionTreeClassifier(max_features='sqrt', random_state=996406378)]\n"
     ]
    },
    {
     "ename": "ValueError",
     "evalue": "non-broadcastable output operand with shape (4,1) doesn't match the broadcast shape (4,2)",
     "output_type": "error",
     "traceback": [
      "\u001b[1;31m---------------------------------------------------------------------------\u001b[0m",
      "\u001b[1;31mValueError\u001b[0m                                Traceback (most recent call last)",
      "\u001b[1;32mg:\\Github\\COMTEK_7_GITHUB\\ce7_741_HOI_detection\\RandomTreeCLF.ipynb Cell 10\u001b[0m line \u001b[0;36m2\n\u001b[0;32m      <a href='vscode-notebook-cell:/g%3A/Github/COMTEK_7_GITHUB/ce7_741_HOI_detection/RandomTreeCLF.ipynb#X35sZmlsZQ%3D%3D?line=0'>1</a>\u001b[0m \u001b[39mprint\u001b[39m(rf_classifier\u001b[39m.\u001b[39mestimators_)\n\u001b[1;32m----> <a href='vscode-notebook-cell:/g%3A/Github/COMTEK_7_GITHUB/ce7_741_HOI_detection/RandomTreeCLF.ipynb#X35sZmlsZQ%3D%3D?line=1'>2</a>\u001b[0m \u001b[39mprint\u001b[39m(rf_classifier\u001b[39m.\u001b[39;49mpredict([[\u001b[39m100\u001b[39;49m, \u001b[39m100\u001b[39;49m, \u001b[39m50\u001b[39;49m, \u001b[39m50\u001b[39;49m], [\u001b[39m100\u001b[39;49m, \u001b[39m100\u001b[39;49m, \u001b[39m50\u001b[39;49m, \u001b[39m50\u001b[39;49m], [\u001b[39m100\u001b[39;49m, \u001b[39m100\u001b[39;49m, \u001b[39m50\u001b[39;49m, \u001b[39m50\u001b[39;49m], [\u001b[39m100\u001b[39;49m, \u001b[39m100\u001b[39;49m, \u001b[39m50\u001b[39;49m, \u001b[39m50\u001b[39;49m]]))\n",
      "File \u001b[1;32mg:\\Github\\COMTEK_7_GITHUB\\.venv\\Lib\\site-packages\\sklearn\\ensemble\\_forest.py:823\u001b[0m, in \u001b[0;36mForestClassifier.predict\u001b[1;34m(self, X)\u001b[0m\n\u001b[0;32m    802\u001b[0m \u001b[39mdef\u001b[39;00m \u001b[39mpredict\u001b[39m(\u001b[39mself\u001b[39m, X):\n\u001b[0;32m    803\u001b[0m \u001b[39m    \u001b[39m\u001b[39m\"\"\"\u001b[39;00m\n\u001b[0;32m    804\u001b[0m \u001b[39m    Predict class for X.\u001b[39;00m\n\u001b[0;32m    805\u001b[0m \n\u001b[1;32m   (...)\u001b[0m\n\u001b[0;32m    821\u001b[0m \u001b[39m        The predicted classes.\u001b[39;00m\n\u001b[0;32m    822\u001b[0m \u001b[39m    \"\"\"\u001b[39;00m\n\u001b[1;32m--> 823\u001b[0m     proba \u001b[39m=\u001b[39m \u001b[39mself\u001b[39;49m\u001b[39m.\u001b[39;49mpredict_proba(X)\n\u001b[0;32m    825\u001b[0m     \u001b[39mif\u001b[39;00m \u001b[39mself\u001b[39m\u001b[39m.\u001b[39mn_outputs_ \u001b[39m==\u001b[39m \u001b[39m1\u001b[39m:\n\u001b[0;32m    826\u001b[0m         \u001b[39mreturn\u001b[39;00m \u001b[39mself\u001b[39m\u001b[39m.\u001b[39mclasses_\u001b[39m.\u001b[39mtake(np\u001b[39m.\u001b[39margmax(proba, axis\u001b[39m=\u001b[39m\u001b[39m1\u001b[39m), axis\u001b[39m=\u001b[39m\u001b[39m0\u001b[39m)\n",
      "File \u001b[1;32mg:\\Github\\COMTEK_7_GITHUB\\.venv\\Lib\\site-packages\\sklearn\\ensemble\\_forest.py:876\u001b[0m, in \u001b[0;36mForestClassifier.predict_proba\u001b[1;34m(self, X)\u001b[0m\n\u001b[0;32m    871\u001b[0m all_proba \u001b[39m=\u001b[39m [\n\u001b[0;32m    872\u001b[0m     np\u001b[39m.\u001b[39mzeros((X\u001b[39m.\u001b[39mshape[\u001b[39m0\u001b[39m], j), dtype\u001b[39m=\u001b[39mnp\u001b[39m.\u001b[39mfloat64)\n\u001b[0;32m    873\u001b[0m     \u001b[39mfor\u001b[39;00m j \u001b[39min\u001b[39;00m np\u001b[39m.\u001b[39matleast_1d(\u001b[39mself\u001b[39m\u001b[39m.\u001b[39mn_classes_)\n\u001b[0;32m    874\u001b[0m ]\n\u001b[0;32m    875\u001b[0m lock \u001b[39m=\u001b[39m threading\u001b[39m.\u001b[39mLock()\n\u001b[1;32m--> 876\u001b[0m Parallel(n_jobs\u001b[39m=\u001b[39;49mn_jobs, verbose\u001b[39m=\u001b[39;49m\u001b[39mself\u001b[39;49m\u001b[39m.\u001b[39;49mverbose, require\u001b[39m=\u001b[39;49m\u001b[39m\"\u001b[39;49m\u001b[39msharedmem\u001b[39;49m\u001b[39m\"\u001b[39;49m)(\n\u001b[0;32m    877\u001b[0m     delayed(_accumulate_prediction)(e\u001b[39m.\u001b[39;49mpredict_proba, X, all_proba, lock)\n\u001b[0;32m    878\u001b[0m     \u001b[39mfor\u001b[39;49;00m e \u001b[39min\u001b[39;49;00m \u001b[39mself\u001b[39;49m\u001b[39m.\u001b[39;49mestimators_\n\u001b[0;32m    879\u001b[0m )\n\u001b[0;32m    881\u001b[0m \u001b[39mfor\u001b[39;00m proba \u001b[39min\u001b[39;00m all_proba:\n\u001b[0;32m    882\u001b[0m     proba \u001b[39m/\u001b[39m\u001b[39m=\u001b[39m \u001b[39mlen\u001b[39m(\u001b[39mself\u001b[39m\u001b[39m.\u001b[39mestimators_)\n",
      "File \u001b[1;32mg:\\Github\\COMTEK_7_GITHUB\\.venv\\Lib\\site-packages\\sklearn\\utils\\parallel.py:65\u001b[0m, in \u001b[0;36mParallel.__call__\u001b[1;34m(self, iterable)\u001b[0m\n\u001b[0;32m     60\u001b[0m config \u001b[39m=\u001b[39m get_config()\n\u001b[0;32m     61\u001b[0m iterable_with_config \u001b[39m=\u001b[39m (\n\u001b[0;32m     62\u001b[0m     (_with_config(delayed_func, config), args, kwargs)\n\u001b[0;32m     63\u001b[0m     \u001b[39mfor\u001b[39;00m delayed_func, args, kwargs \u001b[39min\u001b[39;00m iterable\n\u001b[0;32m     64\u001b[0m )\n\u001b[1;32m---> 65\u001b[0m \u001b[39mreturn\u001b[39;00m \u001b[39msuper\u001b[39;49m()\u001b[39m.\u001b[39;49m\u001b[39m__call__\u001b[39;49m(iterable_with_config)\n",
      "File \u001b[1;32mg:\\Github\\COMTEK_7_GITHUB\\.venv\\Lib\\site-packages\\joblib\\parallel.py:1863\u001b[0m, in \u001b[0;36mParallel.__call__\u001b[1;34m(self, iterable)\u001b[0m\n\u001b[0;32m   1861\u001b[0m     output \u001b[39m=\u001b[39m \u001b[39mself\u001b[39m\u001b[39m.\u001b[39m_get_sequential_output(iterable)\n\u001b[0;32m   1862\u001b[0m     \u001b[39mnext\u001b[39m(output)\n\u001b[1;32m-> 1863\u001b[0m     \u001b[39mreturn\u001b[39;00m output \u001b[39mif\u001b[39;00m \u001b[39mself\u001b[39m\u001b[39m.\u001b[39mreturn_generator \u001b[39melse\u001b[39;00m \u001b[39mlist\u001b[39m(output)\n\u001b[0;32m   1865\u001b[0m \u001b[39m# Let's create an ID that uniquely identifies the current call. If the\u001b[39;00m\n\u001b[0;32m   1866\u001b[0m \u001b[39m# call is interrupted early and that the same instance is immediately\u001b[39;00m\n\u001b[0;32m   1867\u001b[0m \u001b[39m# re-used, this id will be used to prevent workers that were\u001b[39;00m\n\u001b[0;32m   1868\u001b[0m \u001b[39m# concurrently finalizing a task from the previous call to run the\u001b[39;00m\n\u001b[0;32m   1869\u001b[0m \u001b[39m# callback.\u001b[39;00m\n\u001b[0;32m   1870\u001b[0m \u001b[39mwith\u001b[39;00m \u001b[39mself\u001b[39m\u001b[39m.\u001b[39m_lock:\n",
      "File \u001b[1;32mg:\\Github\\COMTEK_7_GITHUB\\.venv\\Lib\\site-packages\\joblib\\parallel.py:1792\u001b[0m, in \u001b[0;36mParallel._get_sequential_output\u001b[1;34m(self, iterable)\u001b[0m\n\u001b[0;32m   1790\u001b[0m \u001b[39mself\u001b[39m\u001b[39m.\u001b[39mn_dispatched_batches \u001b[39m+\u001b[39m\u001b[39m=\u001b[39m \u001b[39m1\u001b[39m\n\u001b[0;32m   1791\u001b[0m \u001b[39mself\u001b[39m\u001b[39m.\u001b[39mn_dispatched_tasks \u001b[39m+\u001b[39m\u001b[39m=\u001b[39m \u001b[39m1\u001b[39m\n\u001b[1;32m-> 1792\u001b[0m res \u001b[39m=\u001b[39m func(\u001b[39m*\u001b[39;49margs, \u001b[39m*\u001b[39;49m\u001b[39m*\u001b[39;49mkwargs)\n\u001b[0;32m   1793\u001b[0m \u001b[39mself\u001b[39m\u001b[39m.\u001b[39mn_completed_tasks \u001b[39m+\u001b[39m\u001b[39m=\u001b[39m \u001b[39m1\u001b[39m\n\u001b[0;32m   1794\u001b[0m \u001b[39mself\u001b[39m\u001b[39m.\u001b[39mprint_progress()\n",
      "File \u001b[1;32mg:\\Github\\COMTEK_7_GITHUB\\.venv\\Lib\\site-packages\\sklearn\\utils\\parallel.py:127\u001b[0m, in \u001b[0;36m_FuncWrapper.__call__\u001b[1;34m(self, *args, **kwargs)\u001b[0m\n\u001b[0;32m    125\u001b[0m     config \u001b[39m=\u001b[39m {}\n\u001b[0;32m    126\u001b[0m \u001b[39mwith\u001b[39;00m config_context(\u001b[39m*\u001b[39m\u001b[39m*\u001b[39mconfig):\n\u001b[1;32m--> 127\u001b[0m     \u001b[39mreturn\u001b[39;00m \u001b[39mself\u001b[39;49m\u001b[39m.\u001b[39;49mfunction(\u001b[39m*\u001b[39;49margs, \u001b[39m*\u001b[39;49m\u001b[39m*\u001b[39;49mkwargs)\n",
      "File \u001b[1;32mg:\\Github\\COMTEK_7_GITHUB\\.venv\\Lib\\site-packages\\sklearn\\ensemble\\_forest.py:650\u001b[0m, in \u001b[0;36m_accumulate_prediction\u001b[1;34m(predict, X, out, lock)\u001b[0m\n\u001b[0;32m    648\u001b[0m \u001b[39mwith\u001b[39;00m lock:\n\u001b[0;32m    649\u001b[0m     \u001b[39mif\u001b[39;00m \u001b[39mlen\u001b[39m(out) \u001b[39m==\u001b[39m \u001b[39m1\u001b[39m:\n\u001b[1;32m--> 650\u001b[0m         out[\u001b[39m0\u001b[39;49m] \u001b[39m+\u001b[39;49m\u001b[39m=\u001b[39;49m prediction\n\u001b[0;32m    651\u001b[0m     \u001b[39melse\u001b[39;00m:\n\u001b[0;32m    652\u001b[0m         \u001b[39mfor\u001b[39;00m i \u001b[39min\u001b[39;00m \u001b[39mrange\u001b[39m(\u001b[39mlen\u001b[39m(out)):\n",
      "\u001b[1;31mValueError\u001b[0m: non-broadcastable output operand with shape (4,1) doesn't match the broadcast shape (4,2)"
     ]
    }
   ],
   "source": [
    "print(rf_classifier.estimators_)\n",
    "print(rf_classifier.predict([[100, 100, 50, 50], [100, 100, 50, 50], [100, 100, 50, 50], [100, 100, 50, 50]]))"
   ]
  },
  {
   "cell_type": "markdown",
   "metadata": {},
   "source": [
    "##### Testing classifier on our data"
   ]
  },
  {
   "cell_type": "code",
   "execution_count": null,
   "metadata": {},
   "outputs": [],
   "source": [
    "# Testing classifier on a new testset\n",
    "predictions = []\n",
    "labels = []\n",
    "for batch in tqdm(test_dataloader, total=len(test_dataloader)):\n",
    "    frames, targets, coords = batch\n",
    "    \n",
    "    # Preprocess data\n",
    "    features, label = preprocess((coords,targets), mode=\"bbox\")\n",
    "    labels.append(label)\n",
    "    \n",
    "    print(features)\n",
    "    print(coords)\n",
    "    # Make predictions on the new test set\n",
    "    predictions.append(rf_classifier.predict(coords))\n",
    "\n",
    "# Evaluate the classifier\n",
    "accuracy = accuracy_score(labels, predictions)\n",
    "#print(f\"Accuracy: {accuracy}\")\n",
    "#print(classification_report(labels, predictions))\n",
    "# Compute accuracy by confusion matrix\n",
    "cm_matrix = confusion_matrix(labels, predictions)\n",
    "# Plot confusion matrix\n",
    "cm_matrix = ConfusionMatrixDisplay(confusion_matrix=cm_matrix, display_labels=rf_classifier.classes_)\n",
    "#cm_matrix.plot()\n",
    "for pred, truth in zip(predictions, labels):\n",
    "    if pred != truth:\n",
    "        print(f\"Incorrect Prediction: {le.inverse_transform([pred])}, Actual: {le.inverse_transform([truth])}\")\n"
   ]
  },
  {
   "cell_type": "markdown",
   "metadata": {},
   "source": [
    "##### Training clf on bbox coordinates"
   ]
  },
  {
   "cell_type": "code",
   "execution_count": null,
   "metadata": {},
   "outputs": [],
   "source": [
    "# Training classifier on bbox coordinates\n",
    "print(data_list[533][1])\n",
    "print(len(data_list))\n",
    "print(le.inverse_transform(np.ravel(data_list[0][1])))\n",
    "\n",
    "# Separate features and labels in separate lists\n",
    "# Reshaping labels cause classifier expect dim <= 2\n",
    "features, labels = zip(*data_list)\n",
    "labels = np.array(labels).reshape(-1)\n",
    "features = np.array([coord[0] for coord in features])\n",
    "print(labels.shape)\n",
    "#print(features)\n",
    "print(features.shape)\n",
    "#features = [image[0].reshape(-1).numpy() for image in features]\n",
    "\n",
    "# Split the data into training and testing sets with random seed\n",
    "seed = 1\n",
    "X_train, X_test, y_train, y_test = train_test_split(features, labels, test_size=0.2, random_state=seed)\n",
    "\n",
    "# Creating a RandomForestClassifier with 100 trees with random seed\n",
    "# Trying to fit the features (cropped frames of human+object)\n",
    "rf_classifier = RandomForestClassifier(n_estimators=10, random_state=seed)\n",
    "rf_classifier.fit(features,labels)\n",
    "\n",
    "# Make predictions on the test set\n",
    "predictions = rf_classifier.predict(X_test)\n",
    "\n",
    "# Evaluate the classifier\n",
    "accuracy = accuracy_score(y_test, predictions)\n",
    "print(f\"Accuracy: {accuracy}\")\n",
    "print(classification_report(y_test, predictions))\n",
    "\n",
    "\n",
    "# Compute accuracy by confusion matrix\n",
    "cm_matrix = confusion_matrix(y_test, predictions)\n",
    "\n",
    "# Plot confusion matrix\n",
    "cm_matrix = ConfusionMatrixDisplay(confusion_matrix=cm_matrix, display_labels=rf_classifier.classes_)\n",
    "cm_matrix.plot()\n",
    "\n",
    "for pred, truth in zip(predictions, y_test):\n",
    "    if pred != truth:\n",
    "        print(f\"Incorrect Prediction: {le.inverse_transform([pred])}, Actual: {le.inverse_transform([truth])}\")\n",
    "\n",
    "\"\"\"\n",
    "### Observation ###\n",
    "Due to different shapes of the cropped frames\n",
    "i cant train the classifier on the features.\n",
    "\n",
    "I might try padding the crops?\n",
    "\n",
    "Trying to pass coordinates instead, works.\n",
    "\"\"\""
   ]
  },
  {
   "cell_type": "markdown",
   "metadata": {},
   "source": [
    "##### Training clf on cropped imgs"
   ]
  },
  {
   "cell_type": "code",
   "execution_count": null,
   "metadata": {},
   "outputs": [],
   "source": [
    "# Training classifier on cropped imgs\n",
    "features, labels, plots = preprocess(data_list2, 10)\n",
    "\n",
    "# Split the data into training and testing sets with random seed\n",
    "seed = 1\n",
    "X_train, X_test, y_train, y_test = train_test_split(features, labels, test_size=0.8, random_state=seed)\n",
    "\n",
    "# Creating a RandomForestClassifier with 10 trees with random seed\n",
    "# Trying to fit the features (cropped frames of human+object)\n",
    "rf_classifier = RandomForestClassifier(n_estimators=1, random_state=seed)\n",
    "rf_classifier.fit(features,labels)\n",
    "\n",
    "# Make predictions on the test set\n",
    "predictions = rf_classifier.predict(X_test)\n",
    "\n",
    "# Evaluate the classifier\n",
    "accuracy = accuracy_score(y_test, predictions)\n",
    "print(f\"Accuracy: {accuracy}\")\n",
    "print(classification_report(y_test, predictions))\n",
    "\n",
    "\n",
    "# Compute accuracy by confusion matrix\n",
    "cm_matrix = confusion_matrix(y_test, predictions)\n",
    "\n",
    "# Plot confusion matrix\n",
    "cm_matrix = ConfusionMatrixDisplay(confusion_matrix=cm_matrix, display_labels=rf_classifier.classes_)\n",
    "cm_matrix.plot()\n",
    "\n",
    "for pred, truth in zip(predictions, y_test):\n",
    "    if pred != truth:\n",
    "        print(f\"Incorrect Prediction: {le.inverse_transform([pred])}, Actual: {le.inverse_transform([truth])}\")\n",
    "\n",
    "plt.figure(figsize=(10,4))\n",
    "plt.subplot(1,3,1)\n",
    "plt.title(\"3d img\")\n",
    "plt.imshow(plots[0])\n",
    "\n",
    "plt.subplot(1,3,2)\n",
    "plt.title(\"2d img\")\n",
    "plt.imshow(plots[1], cmap='gray', aspect='auto')\n",
    "\n",
    "plt.subplot(1,3,3)\n",
    "plt.title(\"padded 2d img\")\n",
    "plt.imshow(plots[2], cmap='gray', aspect='auto')\n",
    "plt.tight_layout()"
   ]
  }
 ],
 "metadata": {
  "kernelspec": {
   "display_name": ".venv",
   "language": "python",
   "name": "python3"
  },
  "language_info": {
   "codemirror_mode": {
    "name": "ipython",
    "version": 3
   },
   "file_extension": ".py",
   "mimetype": "text/x-python",
   "name": "python",
   "nbconvert_exporter": "python",
   "pygments_lexer": "ipython3",
   "version": "3.11.6"
  }
 },
 "nbformat": 4,
 "nbformat_minor": 2
}
